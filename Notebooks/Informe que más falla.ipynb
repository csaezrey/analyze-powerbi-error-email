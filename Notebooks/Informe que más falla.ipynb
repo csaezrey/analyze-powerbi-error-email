{
 "cells": [
  {
   "cell_type": "markdown",
   "id": "bcd9bcab",
   "metadata": {},
   "source": [
    "# Importación de librerías"
   ]
  },
  {
   "cell_type": "code",
   "execution_count": 1,
   "id": "3cd010c8",
   "metadata": {},
   "outputs": [],
   "source": [
    "import os\n",
    "import matplotlib.pyplot as plt"
   ]
  },
  {
   "cell_type": "markdown",
   "id": "5ba84a32",
   "metadata": {},
   "source": [
    "# Variables"
   ]
  },
  {
   "cell_type": "code",
   "execution_count": 2,
   "id": "19a49b5d",
   "metadata": {},
   "outputs": [],
   "source": [
    "directory = r'C:\\Correos Power BI'\n",
    "my_dict = {}"
   ]
  },
  {
   "cell_type": "markdown",
   "id": "5bf698ff",
   "metadata": {},
   "source": [
    "## Obtener lista de reportes con falla en recarga"
   ]
  },
  {
   "cell_type": "code",
   "execution_count": 3,
   "id": "ce3aee88",
   "metadata": {},
   "outputs": [],
   "source": [
    "for filename in os.listdir(directory):\n",
    "    current = filename[16:].split(\" has failed\",1)[0]\n",
    "    my_dict[current] = my_dict[current]+1 if current in my_dict else 1"
   ]
  },
  {
   "cell_type": "markdown",
   "id": "d42b00cc",
   "metadata": {},
   "source": [
    "# Mostramos el gráfico"
   ]
  },
  {
   "cell_type": "code",
   "execution_count": 4,
   "id": "8d13d518",
   "metadata": {},
   "outputs": [
    {
     "data": {
      "image/png": "[encoded data removed]",
      "text/plain": [
       "<Figure size 432x288 with 1 Axes>"
      ]
     },
     "metadata": {
      "needs_background": "light"
     },
     "output_type": "display_data"
    }
   ],
   "source": [
    "f,ax = plt.subplots()  \n",
    "i=0\n",
    "for k, v in my_dict.items():\n",
    "    ax.text(i-.1,v+.1,str(v)) \n",
    "    i=i+1\n",
    "\n",
    "plt.xticks(rotation='vertical')\n",
    "plt.bar(my_dict.keys(), my_dict.values(), color='g')\n",
    "plt.show()"
   ]
  }
 ],
 "metadata": {
  "kernelspec": {
   "display_name": "Python 3",
   "language": "python",
   "name": "python3"
  },
  "language_info": {
   "codemirror_mode": {
    "name": "ipython",
    "version": 3
   },
   "file_extension": ".py",
   "mimetype": "text/x-python",
   "name": "python",
   "nbconvert_exporter": "python",
   "pygments_lexer": "ipython3",
   "version": "3.8.8"
  }
 },
 "nbformat": 4,
 "nbformat_minor": 5
}
